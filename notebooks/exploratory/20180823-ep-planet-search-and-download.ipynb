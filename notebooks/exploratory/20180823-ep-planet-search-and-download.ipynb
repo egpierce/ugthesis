{
 "cells": [
  {
   "cell_type": "markdown",
   "metadata": {},
   "source": [
    "# Planet: Search, Activate, and Download\n",
    "\n",
    "Planet Labs imagery documentation for developers: https://developers.planet.com/docs\n",
    "\n",
    "Notebook objectives:\n",
    "+ Search for Planet imagery from 2017 over the sites of interest\n",
    "+ Select and activate the best-quality scenes\n",
    "+ Download the activated assets\n",
    "\n",
    "Note: Successful use of this notebook requires exporting a personal Planet API key as an environment variable 'PL_API_KEY'."
   ]
  },
  {
   "cell_type": "code",
   "execution_count": 6,
   "metadata": {},
   "outputs": [],
   "source": [
    "import os\n",
    "import pandas as pd"
   ]
  },
  {
   "cell_type": "markdown",
   "metadata": {},
   "source": [
    "## Part one: Search for assets"
   ]
  },
  {
   "cell_type": "code",
   "execution_count": null,
   "metadata": {},
   "outputs": [],
   "source": [
    "# First, import a list of "
   ]
  }
 ],
 "metadata": {
  "kernelspec": {
   "display_name": "Python 3",
   "language": "python",
   "name": "python3"
  },
  "language_info": {
   "codemirror_mode": {
    "name": "ipython",
    "version": 3
   },
   "file_extension": ".py",
   "mimetype": "text/x-python",
   "name": "python",
   "nbconvert_exporter": "python",
   "pygments_lexer": "ipython3",
   "version": "3.6.5"
  }
 },
 "nbformat": 4,
 "nbformat_minor": 2
}
